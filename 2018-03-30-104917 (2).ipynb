{
 "cells": [
  {
   "cell_type": "code",
   "execution_count": 2,
   "metadata": {
    "collapsed": false
   },
   "outputs": [
    {
     "name": "stdout",
     "output_type": "stream",
     "text": [
      "o\n"
     ]
    }
   ],
   "source": [
    "#string and index\n",
    "a = \"hello\"\n",
    "print a [-1]"
   ]
  },
  {
   "cell_type": "code",
   "execution_count": 3,
   "metadata": {
    "collapsed": false
   },
   "outputs": [
    {
     "name": "stdout",
     "output_type": "stream",
     "text": [
      "hello\n"
     ]
    }
   ],
   "source": [
    "print a.lower()"
   ]
  },
  {
   "cell_type": "code",
   "execution_count": 4,
   "metadata": {
    "collapsed": false
   },
   "outputs": [
    {
     "name": "stdout",
     "output_type": "stream",
     "text": [
      "5\n"
     ]
    }
   ],
   "source": [
    "print len(a)"
   ]
  },
  {
   "cell_type": "code",
   "execution_count": 5,
   "metadata": {
    "collapsed": false
   },
   "outputs": [
    {
     "name": "stdout",
     "output_type": "stream",
     "text": [
      "ell\n"
     ]
    }
   ],
   "source": [
    "print a[1:4]"
   ]
  },
  {
   "cell_type": "code",
   "execution_count": 6,
   "metadata": {
    "collapsed": false
   },
   "outputs": [
    {
     "name": "stdout",
     "output_type": "stream",
     "text": [
      "the value of pi is 3.14\n"
     ]
    }
   ],
   "source": [
    "pi = 3.14\n",
    "print \"the value of pi is\",pi\n"
   ]
  },
  {
   "cell_type": "code",
   "execution_count": 7,
   "metadata": {
    "collapsed": false
   },
   "outputs": [
    {
     "name": "stdout",
     "output_type": "stream",
     "text": [
      "the valuue of pi is3.14\n"
     ]
    }
   ],
   "source": [
    "print \"the valuue of pi is\"+str(pi)"
   ]
  },
  {
   "cell_type": "code",
   "execution_count": 9,
   "metadata": {
    "collapsed": false
   },
   "outputs": [
    {
     "name": "stdout",
     "output_type": "stream",
     "text": [
      "iam from madurai iam working in bangalore\n"
     ]
    }
   ],
   "source": [
    "place1=\"madurai\"\n",
    "place2=\"bangalore\"\n",
    "print \"iam from \" + place1 + \" iam working in \" +place2\n"
   ]
  },
  {
   "cell_type": "code",
   "execution_count": 10,
   "metadata": {
    "collapsed": false
   },
   "outputs": [
    {
     "name": "stdout",
     "output_type": "stream",
     "text": [
      "iam from madurai iam working in bangalore\n"
     ]
    }
   ],
   "source": [
    "print \"iam from %s iam working in %s\" %(place1,place2)"
   ]
  },
  {
   "cell_type": "code",
   "execution_count": 12,
   "metadata": {
    "cocalc": {
     "outputs": {
      "0": {
       "name": "input",
       "opts": {
        "password": false,
        "prompt": "what is your name?"
       },
       "output_type": "stream",
       "value": "sundar"
      },
      "1": {
       "name": "input",
       "opts": {
        "password": false,
        "prompt": "what is your number"
       },
       "output_type": "stream",
       "value": "6"
      },
      "2": {
       "name": "input",
       "opts": {
        "password": false,
        "prompt": "where are you from"
       },
       "output_type": "stream",
       "value": "madurai"
      }
     }
    },
    "collapsed": false,
    "scrolled": true
   },
   "outputs": [
    {
     "name": "stdout",
     "output_type": "stream",
     "text": "what is your name? sundar"
    },
    {
     "name": "stdout",
     "output_type": "stream",
     "text": "what is your number 6"
    },
    {
     "name": "stdout",
     "output_type": "stream",
     "text": "where are you from madurai"
    }
   ],
   "source": [
    "#getting input from user\n",
    "input1 = raw_input(\"what is your name?\")\n",
    "input2 = raw_input(\"what is your number\")\n",
    "input3 = raw_input(\"where are you from\")"
   ]
  },
  {
   "cell_type": "code",
   "execution_count": 14,
   "metadata": {
    "collapsed": false
   },
   "outputs": [
    {
     "name": "stdout",
     "output_type": "stream",
     "text": [
      "2018-03-30 05:43:37.325038\n"
     ]
    }
   ],
   "source": [
    "#date time\n",
    "from datetime import datetime\n",
    "\n",
    "now = datetime.now()\n",
    "\n",
    "print now"
   ]
  },
  {
   "cell_type": "code",
   "execution_count": 15,
   "metadata": {
    "collapsed": false
   },
   "outputs": [
    {
     "name": "stdout",
     "output_type": "stream",
     "text": [
      "2018\n",
      "3\n"
     ]
    }
   ],
   "source": [
    "print now.year\n",
    "print now.month"
   ]
  },
  {
   "cell_type": "code",
   "execution_count": 20,
   "metadata": {
    "collapsed": false
   },
   "outputs": [
    {
     "name": "stdout",
     "output_type": "stream",
     "text": [
      "<type 'int'>\n",
      "<type 'float'>\n",
      "<type 'str'>\n"
     ]
    }
   ],
   "source": [
    "#variable types\n",
    "x = 50\n",
    "y= 5.5\n",
    "z = \"xyz\"\n",
    "print type(x)\n",
    "print type(y)\n",
    "print type(z)"
   ]
  },
  {
   "cell_type": "code",
   "execution_count": 26,
   "metadata": {
    "collapsed": false
   },
   "outputs": [
   ],
   "source": [
    "#big and small number using arguments\n",
    "def bigandsmall(*arg):\n",
    "    print max(arg),min(arg)\n",
    "    print bigandsmall(-10, -5, 0, 10)"
   ]
  },
  {
   "cell_type": "code",
   "execution_count": 31,
   "metadata": {
    "collapsed": false
   },
   "outputs": [
    {
     "name": "stdout",
     "output_type": "stream",
     "text": [
      "dog\n",
      "['cow', 'cat', 'dog', 'deer', 'lion']\n",
      "['cow', 'cat', 'tiger', 'dog', 'deer', 'lion']\n"
     ]
    }
   ],
   "source": [
    "#animal list\n",
    "animal = [\"cow\",\"cat\",\"dog\",\"deer\",\"lion\"]\n",
    "print animal[2]\n",
    "print animal\n",
    "dog_index = animal.index(\"dog\")\n",
    "animal.insert(dog_index,\"tiger\")\n",
    "print animal\n"
   ]
  },
  {
   "cell_type": "code",
   "execution_count": 32,
   "metadata": {
    "collapsed": false
   },
   "outputs": [
    {
     "name": "stdout",
     "output_type": "stream",
     "text": [
      "sne\n"
     ]
    }
   ],
   "source": [
    "classroom = {101:\"ashis\",102:\"sundar\",103:\"sne\"}\n",
    "print classroom[103]"
   ]
  },
  {
   "cell_type": "code",
   "execution_count": 33,
   "metadata": {
    "collapsed": false
   },
   "outputs": [
    {
     "name": "stdout",
     "output_type": "stream",
     "text": [
      "[1, 2, 3, 4, 5, 6]\n"
     ]
    }
   ],
   "source": [
    "num = [1,2,3,4,5]\n",
    "num.append(6)\n",
    "print num"
   ]
  },
  {
   "cell_type": "code",
   "execution_count": 35,
   "metadata": {
    "collapsed": false
   },
   "outputs": [
    {
     "name": "stdout",
     "output_type": "stream",
     "text": [
      "{'age': 20, 'name': 'sundar', 'email': 'sundarmsp8@gmail.com'}\n",
      "[('age', 20), ('name', 'sundar'), ('email', 'sundarmsp8@gmail.com')]\n",
      "['age', 'name', 'email']\n",
      "[20, 'sundar', 'sundarmsp8@gmail.com']\n"
     ]
    }
   ],
   "source": [
    "mydata ={\n",
    "    \"name\" : \"sundar\",\n",
    "    \"age\" : 20,\n",
    "    \"email\" : \"sundarmsp8@gmail.com\"\n",
    "}\n",
    "print mydata\n",
    "\n",
    "print mydata.items() #items\n",
    "\n",
    "print mydata.keys()  #keys\n",
    "\n",
    "print mydata.values() #values"
   ]
  },
  {
   "cell_type": "code",
   "execution_count": 0,
   "metadata": {
    "collapsed": false
   },
   "outputs": [
   ],
   "source": [
   ]
  }
 ],
 "metadata": {
  "kernelspec": {
   "display_name": "Python 2 (Ubuntu Linux)",
   "language": "python",
   "name": "python2-ubuntu"
  },
  "language_info": {
   "codemirror_mode": {
    "name": "ipython",
    "version": 2
   },
   "file_extension": ".py",
   "mimetype": "text/x-python",
   "name": "python",
   "nbconvert_exporter": "python",
   "pygments_lexer": "ipython2",
   "version": "2.7.12"
  }
 },
 "nbformat": 4,
 "nbformat_minor": 0
}